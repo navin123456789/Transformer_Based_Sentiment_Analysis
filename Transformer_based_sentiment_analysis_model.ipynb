{
  "nbformat": 4,
  "nbformat_minor": 0,
  "metadata": {
    "colab": {
      "provenance": [],
      "gpuType": "T4"
    },
    "kernelspec": {
      "name": "python3",
      "display_name": "Python 3"
    },
    "language_info": {
      "name": "python"
    },
    "accelerator": "GPU"
  },
  "cells": [
    {
      "cell_type": "code",
      "source": [
        "import pandas as pd\n",
        "import numpy as np\n",
        "import matplotlib.pyplot as plt\n",
        "\n",
        "import re\n",
        "import nltk\n",
        "from nltk.corpus import stopwords\n",
        "from sklearn.model_selection import train_test_split\n",
        "from sklearn.preprocessing import LabelEncoder\n",
        "from sklearn.metrics import accuracy_score, classification_report\n",
        "\n",
        "import tensorflow as tf\n",
        "from tensorflow.keras.preprocessing.text import Tokenizer\n",
        "from tensorflow.keras.preprocessing.sequence import pad_sequences\n",
        "from tensorflow.keras.models import Model\n",
        "from tensorflow.keras.layers import Input, Embedding, Dense, Attention, LayerNormalization, Dropout"
      ],
      "metadata": {
        "id": "E6fpqoYPOW8A"
      },
      "execution_count": 15,
      "outputs": []
    },
    {
      "cell_type": "markdown",
      "source": [
        "## Load the IMDB Dataset\n",
        "\n",
        "\n",
        "\n"
      ],
      "metadata": {
        "id": "rxDIAZzqSmfw"
      }
    },
    {
      "cell_type": "code",
      "source": [
        "df = pd.read_csv(\"/content/IMDB Dataset.csv\")"
      ],
      "metadata": {
        "id": "cmdx05WCQ-sp"
      },
      "execution_count": 16,
      "outputs": []
    },
    {
      "cell_type": "markdown",
      "source": [
        "## Data Preprocessing\n"
      ],
      "metadata": {
        "id": "0h74aK-dT3MV"
      }
    },
    {
      "cell_type": "code",
      "source": [
        "df['cleaned_review'] = df['review'].apply(lambda x: re.sub(r'[^a-zA-Z\\s]', '', x))\n",
        "df['cleaned_review'] = df['cleaned_review'].apply(lambda x: x.lower())\n",
        "nltk.download('stopwords')\n",
        "stop_words = set(stopwords.words('english'))\n",
        "df['cleaned_review'] = df['cleaned_review'].apply(lambda x: ' '.join(word for word in x.split() if word not in stop_words))"
      ],
      "metadata": {
        "id": "edUDX3NjRA6Q",
        "colab": {
          "base_uri": "https://localhost:8080/"
        },
        "outputId": "ea0265d6-c5e4-4323-c0c4-418cd09ba5cb"
      },
      "execution_count": 17,
      "outputs": [
        {
          "output_type": "stream",
          "name": "stderr",
          "text": [
            "[nltk_data] Downloading package stopwords to /root/nltk_data...\n",
            "[nltk_data]   Package stopwords is already up-to-date!\n"
          ]
        }
      ]
    },
    {
      "cell_type": "code",
      "source": [
        "X_train, X_test, y_train, y_test = train_test_split(df['cleaned_review'], df['sentiment'], test_size=0.2, random_state=42)"
      ],
      "metadata": {
        "id": "RbH9GomiRDJb"
      },
      "execution_count": 18,
      "outputs": []
    },
    {
      "cell_type": "markdown",
      "source": [
        "##Label Encoding for Sentiment Column\n",
        "\n",
        "\n"
      ],
      "metadata": {
        "id": "yL4OgoErUFrb"
      }
    },
    {
      "cell_type": "code",
      "source": [
        "# Label Encoding for Sentiment Column\n",
        "label_encoder = LabelEncoder()\n",
        "y_train_encoded = label_encoder.fit_transform(y_train)\n",
        "y_test_encoded = label_encoder.transform(y_test)"
      ],
      "metadata": {
        "id": "5ryFfHWIRFL8"
      },
      "execution_count": 19,
      "outputs": []
    },
    {
      "cell_type": "markdown",
      "source": [
        "## Tokenization and Padding\n"
      ],
      "metadata": {
        "id": "_RaWtZm-U0yI"
      }
    },
    {
      "cell_type": "code",
      "source": [
        "tokenizer = Tokenizer(num_words=10000, oov_token=\"<OOV>\")\n",
        "tokenizer.fit_on_texts(X_train)\n",
        "X_train_sequences = tokenizer.texts_to_sequences(X_train)\n",
        "X_test_sequences = tokenizer.texts_to_sequences(X_test)\n",
        "X_train_padded = pad_sequences(X_train_sequences, maxlen=100, truncating='post', padding='post')\n",
        "X_test_padded = pad_sequences(X_test_sequences, maxlen=100, truncating='post', padding='post')"
      ],
      "metadata": {
        "id": "lhVt_kZSRHKC"
      },
      "execution_count": 20,
      "outputs": []
    },
    {
      "cell_type": "markdown",
      "source": [
        "##Transformer-Based Model Building\n",
        "\n"
      ],
      "metadata": {
        "id": "6LaZyo_JVHTo"
      }
    },
    {
      "cell_type": "code",
      "source": [
        "# Transformer Model Building\n",
        "embedding_dim = 32  # We can Adjust the embedding dimension based on our preference\n",
        "num_heads = 2\n",
        "ff_dim = 32\n",
        "\n",
        "inputs = Input(shape=(100,))\n",
        "embedding_layer = Embedding(input_dim=10000, output_dim=embedding_dim)(inputs)\n",
        "transformer_block = embedding_layer\n",
        "\n",
        "for _ in range(num_heads):\n",
        "    attn_output = Attention(use_scale=True)([transformer_block, transformer_block])\n",
        "    transformer_block = LayerNormalization(epsilon=1e-6)(transformer_block + attn_output)\n",
        "    transformer_block = Dropout(0.1)(transformer_block)\n",
        "\n",
        "transformer_block = tf.keras.layers.Conv1D(filters=ff_dim, kernel_size=1, activation='relu')(transformer_block)\n",
        "transformer_block = tf.keras.layers.GlobalAveragePooling1D()(transformer_block)\n",
        "transformer_block = Dropout(0.1)(transformer_block)\n",
        "transformer_block = Dense(20, activation='relu')(transformer_block)\n",
        "output_layer = Dense(1, activation='sigmoid')(transformer_block)\n",
        "\n",
        "model = Model(inputs=inputs, outputs=output_layer)"
      ],
      "metadata": {
        "id": "FTtkGY4vRJeP"
      },
      "execution_count": 21,
      "outputs": []
    },
    {
      "cell_type": "markdown",
      "source": [
        "## Model Training\n"
      ],
      "metadata": {
        "id": "9L3Bc1XlVODK"
      }
    },
    {
      "cell_type": "code",
      "source": [
        "model.compile(optimizer='adam', loss='binary_crossentropy', metrics=['accuracy'])\n"
      ],
      "metadata": {
        "id": "r8CxdZamRMFV"
      },
      "execution_count": 22,
      "outputs": []
    },
    {
      "cell_type": "code",
      "source": [
        "\n",
        "# Train the model and save the history\n",
        "history = model.fit(\n",
        "    X_train_padded,\n",
        "    y_train_encoded,\n",
        "    epochs=5,\n",
        "    validation_data=(X_test_padded, y_test_encoded)\n",
        ")\n",
        "\n",
        "# Plot training & validation accuracy values\n",
        "plt.figure(figsize=(12, 5))\n",
        "\n",
        "# Accuracy plot\n",
        "plt.subplot(1, 2, 1)\n",
        "plt.plot(history.history['accuracy'], label='Train Accuracy')\n",
        "plt.plot(history.history['val_accuracy'], label='Validation Accuracy')\n",
        "plt.title('Model Accuracy')\n",
        "plt.xlabel('Epoch')\n",
        "plt.ylabel('Accuracy')\n",
        "plt.legend()\n",
        "\n",
        "# Loss plot\n",
        "plt.subplot(1, 2, 2)\n",
        "plt.plot(history.history['loss'], label='Train Loss')\n",
        "plt.plot(history.history['val_loss'], label='Validation Loss')\n",
        "plt.title('Model Loss')\n",
        "plt.xlabel('Epoch')\n",
        "plt.ylabel('Loss')\n",
        "plt.legend()\n",
        "\n",
        "plt.tight_layout()\n",
        "plt.show()\n"
      ],
      "metadata": {
        "colab": {
          "base_uri": "https://localhost:8080/",
          "height": 614
        },
        "id": "Q3opr_901Igc",
        "outputId": "ba74a9e5-1c0d-41b5-a4aa-483238934dcd"
      },
      "execution_count": 23,
      "outputs": [
        {
          "output_type": "stream",
          "name": "stdout",
          "text": [
            "Epoch 1/5\n",
            "\u001b[1m1250/1250\u001b[0m \u001b[32m━━━━━━━━━━━━━━━━━━━━\u001b[0m\u001b[37m\u001b[0m \u001b[1m14s\u001b[0m 5ms/step - accuracy: 0.7591 - loss: 0.4786 - val_accuracy: 0.8642 - val_loss: 0.3193\n",
            "Epoch 2/5\n",
            "\u001b[1m1250/1250\u001b[0m \u001b[32m━━━━━━━━━━━━━━━━━━━━\u001b[0m\u001b[37m\u001b[0m \u001b[1m7s\u001b[0m 4ms/step - accuracy: 0.8914 - loss: 0.2664 - val_accuracy: 0.8644 - val_loss: 0.3194\n",
            "Epoch 3/5\n",
            "\u001b[1m1250/1250\u001b[0m \u001b[32m━━━━━━━━━━━━━━━━━━━━\u001b[0m\u001b[37m\u001b[0m \u001b[1m5s\u001b[0m 4ms/step - accuracy: 0.9133 - loss: 0.2170 - val_accuracy: 0.8640 - val_loss: 0.3301\n",
            "Epoch 4/5\n",
            "\u001b[1m1250/1250\u001b[0m \u001b[32m━━━━━━━━━━━━━━━━━━━━\u001b[0m\u001b[37m\u001b[0m \u001b[1m6s\u001b[0m 4ms/step - accuracy: 0.9254 - loss: 0.1913 - val_accuracy: 0.8596 - val_loss: 0.3684\n",
            "Epoch 5/5\n",
            "\u001b[1m1250/1250\u001b[0m \u001b[32m━━━━━━━━━━━━━━━━━━━━\u001b[0m\u001b[37m\u001b[0m \u001b[1m10s\u001b[0m 4ms/step - accuracy: 0.9332 - loss: 0.1680 - val_accuracy: 0.8559 - val_loss: 0.3712\n"
          ]
        },
        {
          "output_type": "display_data",
          "data": {
            "text/plain": [
              "<Figure size 1200x500 with 2 Axes>"
            ],
            "image/png": "[encoded data removed]"
          },
          "metadata": {}
        }
      ]
    },
    {
      "cell_type": "markdown",
      "source": [
        "##Save the Model\n",
        "\n",
        "\n"
      ],
      "metadata": {
        "id": "H4ZwEP00VUoP"
      }
    },
    {
      "cell_type": "code",
      "source": [
        "model.save('/content/transformer_sentiment_model.h5')"
      ],
      "metadata": {
        "id": "I_eIXuGORNZL",
        "colab": {
          "base_uri": "https://localhost:8080/"
        },
        "outputId": "72e81719-acf1-4601-f72f-146186538907"
      },
      "execution_count": 24,
      "outputs": [
        {
          "output_type": "stream",
          "name": "stderr",
          "text": [
            "WARNING:absl:You are saving your model as an HDF5 file via `model.save()` or `keras.saving.save_model(model)`. This file format is considered legacy. We recommend using instead the native Keras format, e.g. `model.save('my_model.keras')` or `keras.saving.save_model(model, 'my_model.keras')`. \n"
          ]
        }
      ]
    },
    {
      "cell_type": "markdown",
      "source": [
        "## Evaluate the Model\n",
        "\n"
      ],
      "metadata": {
        "id": "e0aa5l6mViAv"
      }
    },
    {
      "cell_type": "code",
      "source": [
        "y_pred_prob = model.predict(X_test_padded)\n",
        "y_pred = (y_pred_prob > 0.5).astype(int)\n",
        "\n",
        "# Converting back to original labels\n",
        "y_pred_original = label_encoder.inverse_transform(y_pred.flatten())\n",
        "\n",
        "print(\"Accuracy:\", accuracy_score(y_test_encoded, y_pred))\n",
        "print(\"Classification Report:\\n\", classification_report(y_test_encoded, y_pred))"
      ],
      "metadata": {
        "id": "V3oxW0a2ROlK",
        "colab": {
          "base_uri": "https://localhost:8080/"
        },
        "outputId": "d3dc3bea-69a1-4e49-9edc-19f7eb82d2e1"
      },
      "execution_count": 25,
      "outputs": [
        {
          "output_type": "stream",
          "name": "stdout",
          "text": [
            "\u001b[1m313/313\u001b[0m \u001b[32m━━━━━━━━━━━━━━━━━━━━\u001b[0m\u001b[37m\u001b[0m \u001b[1m2s\u001b[0m 4ms/step\n",
            "Accuracy: 0.8559\n",
            "Classification Report:\n",
            "               precision    recall  f1-score   support\n",
            "\n",
            "           0       0.86      0.85      0.85      4961\n",
            "           1       0.86      0.86      0.86      5039\n",
            "\n",
            "    accuracy                           0.86     10000\n",
            "   macro avg       0.86      0.86      0.86     10000\n",
            "weighted avg       0.86      0.86      0.86     10000\n",
            "\n"
          ]
        }
      ]
    },
    {
      "cell_type": "markdown",
      "source": [
        "## User Input Prediction\n",
        "\n"
      ],
      "metadata": {
        "id": "bA8aqwlIVu1_"
      }
    },
    {
      "cell_type": "code",
      "source": [
        "# User Input Prediction\n",
        "def predict_sentiment_transformer(review):\n",
        "    cleaned_review = re.sub(r'[^a-zA-Z\\s]', '', review.lower())\n",
        "    cleaned_review = ' '.join(word for word in cleaned_review.split() if word not in stop_words)\n",
        "    sequence = tokenizer.texts_to_sequences([cleaned_review])\n",
        "    padded_sequence = pad_sequences(sequence, maxlen=100, truncating='post', padding='post')\n",
        "    prediction = model.predict(padded_sequence)\n",
        "    if 0.4 <= prediction <= 0.55:\n",
        "        return \"Neutral\"\n",
        "    elif prediction > 0.55:\n",
        "        return \"Positive\"\n",
        "    else:\n",
        "        return \"Negative\"\n",
        "\n"
      ],
      "metadata": {
        "id": "kJP4ihNSRSkx"
      },
      "execution_count": 26,
      "outputs": []
    },
    {
      "cell_type": "code",
      "source": [
        "# Enter your review to get the prediction of the sentiment\n",
        "user_input = input(\"Enter your Review here: \")\n",
        "prediction = predict_sentiment_transformer(user_input)\n",
        "print(f\"Predicted Sentiment: {prediction}\")"
      ],
      "metadata": {
        "colab": {
          "base_uri": "https://localhost:8080/"
        },
        "id": "dqdSo5zj0sIT",
        "outputId": "971e6811-fdad-40ad-917e-74562c0ad5b3"
      },
      "execution_count": 27,
      "outputs": [
        {
          "output_type": "stream",
          "name": "stdout",
          "text": [
            "Enter your Review here: I love the way Actor Fight\n",
            "\u001b[1m1/1\u001b[0m \u001b[32m━━━━━━━━━━━━━━━━━━━━\u001b[0m\u001b[37m\u001b[0m \u001b[1m0s\u001b[0m 334ms/step\n",
            "Predicted Sentiment: Positive\n"
          ]
        }
      ]
    },
    {
      "cell_type": "code",
      "source": [],
      "metadata": {
        "id": "tzxp_L1J0suu"
      },
      "execution_count": 27,
      "outputs": []
    }
  ]
}